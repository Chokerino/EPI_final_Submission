{
  "nbformat": 4,
  "nbformat_minor": 0,
  "metadata": {
    "colab": {
      "provenance": []
    },
    "kernelspec": {
      "name": "python3",
      "display_name": "Python 3"
    },
    "language_info": {
      "name": "python"
    }
  },
  "cells": [
    {
      "cell_type": "code",
      "execution_count": 81,
      "metadata": {
        "id": "kw482VrBPmum"
      },
      "outputs": [],
      "source": [
        "import pandas as pd\n",
        "source = 'https://github.com/GeoDaCenter/covid/blob/master/public/csv/covid_confirmed_usafacts.csv'\n",
        "covid_data = pd.read_csv('covid_confirmed_usafacts.csv')\n",
        "target_FIPS=56017\n",
        "county_data = covid_data[covid_data['countyFIPS']==56017]"
      ]
    },
    {
      "cell_type": "code",
      "source": [
        "# !wget https://raw.githubusercontent.com/GeoDaCenter/covid/master/public/csv/covid_confirmed_usafacts.csv\n",
        "# !head covid_confirmed_usafacts.csv\n",
        "# !rm covid_confirmed_usafacts.csv\n",
        "!ls\n",
        "!head daily_cases_Hot_Springs_County_56017.csv"
      ],
      "metadata": {
        "colab": {
          "base_uri": "https://localhost:8080/"
        },
        "id": "iq0G0ldwSaI5",
        "outputId": "1ea4d7e3-358a-4ad8-dc88-d8cdf347fda6"
      },
      "execution_count": 98,
      "outputs": [
        {
          "output_type": "stream",
          "name": "stdout",
          "text": [
            "covid_confirmed_usafacts.csv\n",
            "daily_cases_Hot_Springs_County_56017.csv\n",
            "sample_data\n",
            "United_States_COVID-19_Community_Levels_by_County.csv\n",
            "Weekly_United_States_COVID-19_Cases_and_Deaths_by_State.csv\n",
            "date,new_cases\n",
            "2022-01-01,0.0\n",
            "2022-01-02,0.0\n",
            "2022-01-03,2.0\n",
            "2022-01-04,3.0\n",
            "2022-01-05,0.0\n",
            "2022-01-06,3.0\n",
            "2022-01-07,1.0\n",
            "2022-01-08,0.0\n",
            "2022-01-09,0.0\n"
          ]
        }
      ]
    },
    {
      "cell_type": "code",
      "source": [
        "county_name = county_data['County Name'].to_list()[0].replace(' ','_')\n",
        "county_name\n",
        "out_file = f'daily_cases_{county_name}{target_FIPS}.csv'\n"
      ],
      "metadata": {
        "id": "zwm8jc_HzeJF"
      },
      "execution_count": null,
      "outputs": []
    },
    {
      "cell_type": "code",
      "source": [
        "dates = county_data.columns.to_list()[4:]\n",
        "daily_county_data = county_data[dates].T\n",
        "daily_county_data['date']= daily_county_data.index\n",
        "daily_county_data['date']= pd.to_datetime(daily_county_data['date'])\n",
        "# daily_county_data = daily_county_data.loc[(daily_county_data.date >= '2022-01-01') & (daily_county_data.date <= '2022-10-01')].reset_index(drop=True)\n",
        "daily_county_data = daily_county_data.rename(columns={3178:'cases'})\n",
        "daily_county_data['new_cases'] = daily_county_data['cases'].diff(1)\n",
        "daily_county_data = daily_county_data.loc[(daily_county_data.date >= '2022-01-01') & (daily_county_data.date <= '2022-10-01')].reset_index(drop=True)\n",
        "daily_county_data = daily_county_data[['date','new_cases']]\n",
        "\n",
        "daily_county_data\n",
        "daily_county_data.to_csv(path_or_buf=out_file,index=False)"
      ],
      "metadata": {
        "id": "OLyHmOj0TObk"
      },
      "execution_count": 97,
      "outputs": []
    }
  ]
}